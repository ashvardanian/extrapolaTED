{
 "cells": [
  {
   "cell_type": "code",
   "execution_count": 1,
   "metadata": {},
   "outputs": [
    {
     "name": "stderr",
     "output_type": "stream",
     "text": [
      "/home/user1/miniconda3/envs/py310/lib/python3.10/site-packages/tqdm/auto.py:21: TqdmWarning: IProgress not found. Please update jupyter and ipywidgets. See https://ipywidgets.readthedocs.io/en/stable/user_install.html\n",
      "  from .autonotebook import tqdm as notebook_tqdm\n",
      "Fetching 7 files: 100%|██████████| 7/7 [00:00<00:00, 96262.71it/s]\n"
     ]
    }
   ],
   "source": [
    "import os\n",
    "import numpy as np\n",
    "import pandas as pd\n",
    "from usearch.io import load_matrix\n",
    "from usearch.index import Index\n",
    "from encode import vectorize_e5, vectorize_uform\n"
   ]
  },
  {
   "cell_type": "code",
   "execution_count": 2,
   "metadata": {},
   "outputs": [],
   "source": [
    "def load_vectors():\n",
    "    vectors = load_matrix(\"./data/arxiv/abstract.e5-base-v2.fbin\")\n",
    "    return vectors.astype(np.float16)"
   ]
  },
  {
   "cell_type": "code",
   "execution_count": 3,
   "metadata": {},
   "outputs": [],
   "source": [
    "index_path = \"./data_usearch/arxiv/abstracts.usearch\"\n",
    "index = Index(dtype=\"f16\", metric=\"cos\", ndim=768)\n",
    "if os.path.exists(index_path):\n",
    "    index.load(index_path)\n",
    "else:\n",
    "    index.add(None, load_vectors(), log=True)\n",
    "    index.save(index_path)"
   ]
  },
  {
   "cell_type": "code",
   "execution_count": 4,
   "metadata": {},
   "outputs": [
    {
     "data": {
      "text/plain": [
       "'auto'"
      ]
     },
     "execution_count": 4,
     "metadata": {},
     "output_type": "execute_result"
    }
   ],
   "source": [
    "index.hardware_acceleration"
   ]
  },
  {
   "cell_type": "code",
   "execution_count": 5,
   "metadata": {},
   "outputs": [],
   "source": [
    "abstracts_path = \"./data/arxiv/title_abstract.tsv\"\n",
    "abstracts = pd.read_csv(abstracts_path, sep=\"\\t\")"
   ]
  },
  {
   "cell_type": "code",
   "execution_count": 12,
   "metadata": {},
   "outputs": [
    {
     "data": {
      "text/html": [
       "<div>\n",
       "<style scoped>\n",
       "    .dataframe tbody tr th:only-of-type {\n",
       "        vertical-align: middle;\n",
       "    }\n",
       "\n",
       "    .dataframe tbody tr th {\n",
       "        vertical-align: top;\n",
       "    }\n",
       "\n",
       "    .dataframe thead th {\n",
       "        text-align: right;\n",
       "    }\n",
       "</style>\n",
       "<table border=\"1\" class=\"dataframe\">\n",
       "  <thead>\n",
       "    <tr style=\"text-align: right;\">\n",
       "      <th></th>\n",
       "      <th>title</th>\n",
       "      <th>abstract</th>\n",
       "    </tr>\n",
       "  </thead>\n",
       "  <tbody>\n",
       "    <tr>\n",
       "      <th>0</th>\n",
       "      <td>Calculation of prompt diphoton production cros...</td>\n",
       "      <td>A fully differential calculation in perturbati...</td>\n",
       "    </tr>\n",
       "    <tr>\n",
       "      <th>1</th>\n",
       "      <td>Sparsity-certifying Graph Decompositions</td>\n",
       "      <td>We describe a new algorithm, the $(k,\\ell)$-pe...</td>\n",
       "    </tr>\n",
       "    <tr>\n",
       "      <th>2</th>\n",
       "      <td>The evolution of the Earth-Moon system based o...</td>\n",
       "      <td>The evolution of Earth-Moon system is describe...</td>\n",
       "    </tr>\n",
       "    <tr>\n",
       "      <th>3</th>\n",
       "      <td>A determinant of Stirling cycle numbers counts...</td>\n",
       "      <td>We show that a determinant of Stirling cycle n...</td>\n",
       "    </tr>\n",
       "    <tr>\n",
       "      <th>4</th>\n",
       "      <td>From dyadic $\\Lambda_{\\alpha}$ to $\\Lambda_{\\a...</td>\n",
       "      <td>In this paper we show how to compute the $\\Lam...</td>\n",
       "    </tr>\n",
       "    <tr>\n",
       "      <th>...</th>\n",
       "      <td>...</td>\n",
       "      <td>...</td>\n",
       "    </tr>\n",
       "    <tr>\n",
       "      <th>2288295</th>\n",
       "      <td>On the origin of the irreversibility line in t...</td>\n",
       "      <td>We report on measurements of the angular depen...</td>\n",
       "    </tr>\n",
       "    <tr>\n",
       "      <th>2288296</th>\n",
       "      <td>Nonlinear Response of HTSC Thin Film Microwave...</td>\n",
       "      <td>The non-linear microwave surface impedance of ...</td>\n",
       "    </tr>\n",
       "    <tr>\n",
       "      <th>2288297</th>\n",
       "      <td>Critical State Flux Penetration and Linear Mic...</td>\n",
       "      <td>The vortex contribution to the dc field (H) de...</td>\n",
       "    </tr>\n",
       "    <tr>\n",
       "      <th>2288298</th>\n",
       "      <td>Density of States and NMR Relaxation Rate in A...</td>\n",
       "      <td>We show that the density of states in an aniso...</td>\n",
       "    </tr>\n",
       "    <tr>\n",
       "      <th>2288299</th>\n",
       "      <td>Ginzburg Landau theory for d-wave pairing and ...</td>\n",
       "      <td>The Ginzburg Landau theory for d_{x^2-y^2}-wav...</td>\n",
       "    </tr>\n",
       "  </tbody>\n",
       "</table>\n",
       "<p>2288300 rows × 2 columns</p>\n",
       "</div>"
      ],
      "text/plain": [
       "                                                     title  \\\n",
       "0        Calculation of prompt diphoton production cros...   \n",
       "1                 Sparsity-certifying Graph Decompositions   \n",
       "2        The evolution of the Earth-Moon system based o...   \n",
       "3        A determinant of Stirling cycle numbers counts...   \n",
       "4        From dyadic $\\Lambda_{\\alpha}$ to $\\Lambda_{\\a...   \n",
       "...                                                    ...   \n",
       "2288295  On the origin of the irreversibility line in t...   \n",
       "2288296  Nonlinear Response of HTSC Thin Film Microwave...   \n",
       "2288297  Critical State Flux Penetration and Linear Mic...   \n",
       "2288298  Density of States and NMR Relaxation Rate in A...   \n",
       "2288299  Ginzburg Landau theory for d-wave pairing and ...   \n",
       "\n",
       "                                                  abstract  \n",
       "0        A fully differential calculation in perturbati...  \n",
       "1        We describe a new algorithm, the $(k,\\ell)$-pe...  \n",
       "2        The evolution of Earth-Moon system is describe...  \n",
       "3        We show that a determinant of Stirling cycle n...  \n",
       "4        In this paper we show how to compute the $\\Lam...  \n",
       "...                                                    ...  \n",
       "2288295  We report on measurements of the angular depen...  \n",
       "2288296  The non-linear microwave surface impedance of ...  \n",
       "2288297  The vortex contribution to the dc field (H) de...  \n",
       "2288298  We show that the density of states in an aniso...  \n",
       "2288299  The Ginzburg Landau theory for d_{x^2-y^2}-wav...  \n",
       "\n",
       "[2288300 rows x 2 columns]"
      ]
     },
     "execution_count": 12,
     "metadata": {},
     "output_type": "execute_result"
    }
   ],
   "source": [
    "abstracts"
   ]
  },
  {
   "cell_type": "code",
   "execution_count": 13,
   "metadata": {},
   "outputs": [
    {
     "name": "stderr",
     "output_type": "stream",
     "text": [
      "/home/user1/miniconda3/envs/py310/lib/python3.10/site-packages/pyarrow/pandas_compat.py:373: FutureWarning: is_sparse is deprecated and will be removed in a future version. Check `isinstance(dtype, pd.SparseDtype)` instead.\n",
      "  if _pandas_api.is_sparse(col):\n"
     ]
    }
   ],
   "source": [
    "abstracts.to_parquet('data_usearch/arxiv/abstracts.parquet')"
   ]
  },
  {
   "cell_type": "code",
   "execution_count": 7,
   "metadata": {},
   "outputs": [
    {
     "data": {
      "text/plain": [
       "array([[-3.7012e-01, -3.5572e-03, -4.3506e-01, -9.7229e-02,  1.0425e-01,\n",
       "        -5.9082e-01, -8.3008e-02,  6.4648e-01, -7.9834e-02, -3.0908e-01,\n",
       "         1.1102e-01,  6.9678e-01, -5.2344e-01,  6.2927e-02, -1.6687e-01,\n",
       "         7.8662e-01,  2.4365e-01, -7.7637e-01,  6.8945e-01, -7.9932e-01,\n",
       "        -2.2302e-01, -6.1182e-01,  6.5674e-01,  4.3530e-01, -2.0288e-01,\n",
       "         2.4609e-01, -6.6528e-02,  5.6299e-01, -5.5273e-01, -7.6294e-02,\n",
       "         2.2559e-01,  4.0210e-01,  5.5029e-01, -2.6758e-01, -4.7070e-01,\n",
       "         1.5686e-01, -7.1240e-01, -1.2231e-01, -5.4980e-01,  1.9730e-02,\n",
       "        -1.8225e-01, -3.5547e-01, -6.0645e-01,  6.2744e-01, -5.5176e-01,\n",
       "        -8.4656e-02, -6.2158e-01,  8.5938e-01, -6.4258e-01, -5.9082e-01,\n",
       "        -1.4595e-02,  9.2346e-02,  8.0273e-01,  3.7720e-02, -5.2979e-01,\n",
       "         2.1509e-01, -3.5547e-01, -5.5859e-01, -1.5015e-01, -2.5415e-01,\n",
       "         6.8408e-01,  9.9548e-02,  6.9618e-03, -4.9683e-01,  4.6844e-02,\n",
       "         2.2595e-01,  9.1431e-02, -7.1533e-02, -2.1436e-01,  2.2424e-01,\n",
       "        -2.3633e-01,  7.7759e-02, -5.9424e-01,  1.2671e-01, -7.1924e-01,\n",
       "        -2.7026e-01, -3.7445e-02,  7.0020e-01,  5.1221e-01, -4.2725e-02,\n",
       "        -3.2812e-01, -4.3652e-01,  4.1846e-01,  3.1952e-02, -2.6276e-02,\n",
       "        -6.1475e-01,  1.3342e-01,  2.5223e-02, -2.2681e-01,  7.2168e-01,\n",
       "        -3.4424e-01, -5.2100e-01,  4.5557e-01,  4.3335e-01,  7.5391e-01,\n",
       "        -4.2700e-01,  8.6328e-01, -4.1235e-01,  3.9697e-01, -8.7891e-02,\n",
       "        -8.3545e-01, -4.2578e-01, -6.0205e-01,  2.6636e-01, -6.2695e-01,\n",
       "        -3.5449e-01,  5.6738e-01, -7.2693e-02, -3.8501e-01,  1.3818e-01,\n",
       "        -6.7969e-01,  3.7427e-01, -7.1729e-01, -4.7607e-01, -5.6396e-01,\n",
       "         4.0088e-01,  5.9424e-01,  4.7638e-02, -1.8164e-01,  1.0999e-01,\n",
       "         2.0288e-01,  7.7344e-01,  4.6753e-01,  5.3760e-01,  2.8125e-01,\n",
       "         4.7876e-01,  3.1396e-01,  4.4409e-01, -6.9531e-01, -4.6118e-01,\n",
       "         1.3647e-01,  1.6858e-01,  5.0928e-01, -5.4785e-01, -7.6904e-02,\n",
       "        -6.4307e-01, -4.2603e-01, -1.3649e-04,  1.4136e-01,  3.9038e-01,\n",
       "        -4.1211e-01,  6.7627e-02,  6.0107e-01,  6.0547e-02,  3.4570e-01,\n",
       "        -5.5176e-01, -9.6582e-01, -6.1865e-01, -6.6064e-01,  4.3066e-01,\n",
       "         1.4380e-01,  6.3037e-01,  9.3628e-02, -3.0688e-01, -5.1807e-01,\n",
       "         3.2739e-01, -1.7102e-01,  7.4707e-02, -7.1631e-01, -5.4474e-02,\n",
       "         4.6118e-01,  6.1182e-01,  5.6343e-03,  2.4194e-01,  1.7670e-02,\n",
       "        -1.6357e-02,  6.1377e-01, -2.4976e-01,  5.9723e-02,  8.4570e-01,\n",
       "        -5.0293e-01, -2.7490e-01,  4.2993e-01, -1.5747e-01, -2.9688e-01,\n",
       "         8.2617e-01,  4.4604e-01,  6.3867e-01, -1.3440e-01, -1.1218e-01,\n",
       "        -8.2520e-01,  7.2021e-01,  1.9336e-01,  9.0088e-01, -3.2300e-01,\n",
       "        -3.1006e-01,  6.8652e-01, -4.5874e-01,  6.2012e-01,  3.4180e-01,\n",
       "        -6.4404e-01, -6.5088e-01,  8.3252e-01, -5.1367e-01,  3.9014e-01,\n",
       "        -4.7192e-01, -4.2651e-01,  8.3447e-01,  6.2370e-03,  5.3271e-01,\n",
       "         3.5254e-01, -3.5706e-02,  1.2732e-01, -6.6064e-01, -5.2344e-01,\n",
       "        -6.6748e-01,  1.0468e-01, -8.7158e-01,  6.0596e-01,  5.6934e-01,\n",
       "        -3.0615e-01, -5.0635e-01,  4.5703e-01, -4.0430e-01,  2.1704e-01,\n",
       "        -2.5781e-01,  3.1323e-01, -4.3848e-01,  2.3193e-01,  7.0190e-02,\n",
       "         4.2041e-01, -3.4521e-01, -1.0551e-02,  8.6853e-02, -2.8589e-01,\n",
       "         5.1416e-01,  9.3408e-01,  3.4351e-01,  9.5886e-02,  1.5198e-01,\n",
       "        -3.8452e-01, -2.5244e-01,  2.5317e-01, -4.7876e-01, -3.7134e-01,\n",
       "        -8.4839e-02, -4.0747e-01, -4.2017e-01,  2.5635e-01, -2.1924e-01,\n",
       "        -2.9053e-01,  3.5254e-01, -4.2236e-01,  8.2373e-01, -8.6816e-01,\n",
       "        -3.1104e-01,  1.0195e+00, -1.7090e-01, -6.2207e-01, -3.8013e-01,\n",
       "        -8.8330e-01, -3.6963e-01,  7.2266e-01, -9.0027e-02,  2.9648e-02,\n",
       "        -2.4323e-02,  1.6577e-01,  7.6123e-01,  8.3350e-01,  2.7930e-01,\n",
       "         4.5630e-01,  1.8848e-01,  1.8030e-01, -8.6426e-01, -7.2021e-02,\n",
       "        -1.2783e+00, -2.0728e-01, -8.2031e-01,  4.9170e-01,  4.9048e-01,\n",
       "         5.0635e-01,  3.7939e-01,  3.9014e-01,  1.8616e-02,  3.2251e-01,\n",
       "        -5.3320e-01,  4.9048e-01, -3.4985e-01, -7.0020e-01, -4.4995e-01,\n",
       "        -8.0078e-01,  6.8457e-01, -4.5483e-01, -3.8501e-01,  4.9976e-01,\n",
       "        -3.3508e-02,  6.3135e-01, -3.1641e-01,  1.6931e-01, -2.0959e-01,\n",
       "         1.4832e-01,  3.0200e-01, -8.3398e-01, -8.3435e-02,  3.0737e-01,\n",
       "        -2.0776e-01,  4.5654e-01, -4.6167e-01,  1.8652e-01,  3.5547e-01,\n",
       "         3.0930e-02,  3.9136e-01, -1.7407e-01,  1.3904e-01,  2.9517e-01,\n",
       "        -3.9990e-01, -4.6582e-01,  4.0088e-01, -1.8872e-01,  6.5125e-02,\n",
       "        -7.7930e-01, -4.8462e-01,  7.0557e-01,  2.7759e-01,  9.1748e-01,\n",
       "        -1.0791e-01, -2.9468e-01, -3.8843e-01, -4.8730e-01, -4.9097e-01,\n",
       "        -1.2793e-01,  6.6943e-01,  2.6709e-01, -5.8380e-02,  4.5435e-01,\n",
       "        -4.5654e-02, -5.3467e-01,  5.8887e-01, -7.7100e-01, -8.6060e-02,\n",
       "        -7.4219e-01,  5.8838e-01,  3.8599e-01,  7.0361e-01, -4.0771e-01,\n",
       "        -6.4600e-01, -5.4541e-01, -4.8535e-01, -8.0957e-01, -2.5610e-01,\n",
       "         1.7004e-01,  5.8014e-02,  5.8789e-01, -4.9463e-01,  4.2456e-01,\n",
       "        -1.2566e-02,  3.1396e-01, -3.7646e-01, -3.9624e-01, -1.8091e-01,\n",
       "         8.9783e-02,  4.0381e-01,  2.2437e-01, -1.4441e-01, -2.3938e-01,\n",
       "         2.2351e-01, -4.9438e-01,  5.9521e-01,  2.4634e-01,  1.8762e-01,\n",
       "         2.7759e-01, -4.7974e-01, -5.1709e-01, -8.1421e-02,  1.7261e-01,\n",
       "         3.2324e-01, -5.5811e-01, -6.0352e-01,  5.0293e-01,  1.3831e-01,\n",
       "        -5.4590e-01, -9.4678e-01, -8.1445e-01, -2.6929e-01, -6.8359e-01,\n",
       "         7.1167e-02,  7.0361e-01,  5.6836e-01, -4.4946e-01,  3.2788e-01,\n",
       "        -6.4258e-01, -2.1582e+00, -9.1211e-01,  1.4673e-01, -9.8022e-02,\n",
       "         1.3220e-01,  2.5757e-01,  4.2480e-01, -7.1094e-01, -1.2683e-01,\n",
       "         3.4351e-01,  6.4893e-01, -2.6758e-01, -3.7891e-01, -2.3669e-01,\n",
       "         1.4514e-01, -7.9297e-01, -5.8887e-01, -8.3685e-04, -5.5713e-01,\n",
       "        -2.8174e-01,  3.6133e-01,  7.1973e-01,  2.7661e-01,  1.2915e-01,\n",
       "         4.4946e-01,  7.2363e-01, -2.4976e-01,  3.6084e-01, -7.4365e-01,\n",
       "         1.0643e-02, -2.9468e-01,  3.3301e-01,  2.2949e-02, -5.2917e-02,\n",
       "         1.1011e-01,  7.1973e-01, -1.6882e-01,  7.0557e-01, -4.8364e-01,\n",
       "         2.8174e-01, -1.0120e-01,  2.1765e-01, -9.5276e-02,  5.5518e-01,\n",
       "         2.0178e-01, -8.7402e-02,  3.8696e-01, -3.2129e-01,  6.1426e-01,\n",
       "        -3.3691e-01, -9.4043e-01, -5.4590e-01,  6.1963e-01, -3.9771e-01,\n",
       "        -3.7744e-01,  6.3232e-01, -2.2314e-01, -3.7939e-01, -2.7197e-01,\n",
       "         4.9292e-01,  3.2910e-01,  5.5420e-01,  6.7529e-01,  1.2436e-02,\n",
       "        -1.3794e-01,  1.5735e-01, -6.6553e-01, -2.3941e-02,  4.2603e-01,\n",
       "         1.6455e-01,  4.6338e-01,  5.1855e-01,  4.0771e-01,  2.2241e-01,\n",
       "         3.8086e-01,  1.8982e-01,  6.4551e-01,  4.6069e-01, -2.5977e-01,\n",
       "         4.8218e-01, -1.9739e-01, -6.8945e-01, -3.6035e-01,  5.8398e-01,\n",
       "        -1.1322e-01,  3.2425e-03, -6.1914e-01,  3.3179e-01, -6.9531e-01,\n",
       "        -6.7139e-01,  6.4819e-02,  4.0063e-01,  5.1660e-01,  1.2657e-02,\n",
       "        -1.0419e-01, -2.4634e-01,  2.1606e-02,  3.7659e-02, -2.6904e-01,\n",
       "        -9.5996e-01, -2.5342e-01, -3.8623e-01,  6.3916e-01, -1.1395e-01,\n",
       "        -8.4619e-01,  7.7051e-01,  2.6443e-02,  6.2988e-01,  1.1670e-01,\n",
       "        -3.9917e-01,  8.1738e-01,  2.0996e-01, -4.1431e-01, -5.4346e-01,\n",
       "        -3.5425e-01, -1.4685e-01,  2.7075e-01,  6.7139e-02,  4.8804e-01,\n",
       "         6.0415e-04,  4.2383e-01, -3.5327e-01, -3.9502e-01,  9.3994e-02,\n",
       "         7.3438e-01, -2.6221e-01,  6.8457e-01, -2.4097e-01, -7.6904e-02,\n",
       "        -5.8057e-01,  3.0933e-01,  4.0771e-01, -5.4688e-01,  2.6245e-01,\n",
       "         4.3286e-01, -4.0723e-01,  1.4966e-01, -2.0056e-01, -4.5752e-01,\n",
       "        -1.1104e+00,  3.2007e-01,  3.2617e-01, -2.6587e-01,  6.2939e-01,\n",
       "         3.6768e-01,  4.5508e-01, -1.5796e-01, -2.0435e-01, -4.2847e-02,\n",
       "        -4.5898e-01,  7.5378e-02, -1.6138e-01,  5.9814e-01,  3.4277e-01,\n",
       "        -9.5764e-02, -2.7075e-01, -5.9229e-01,  4.0967e-01, -1.5613e-01,\n",
       "        -3.9575e-01,  2.8979e-01,  1.6830e-02,  4.2358e-02, -2.4463e-01,\n",
       "        -1.5759e-01, -6.6406e-01,  4.3945e-01,  7.3438e-01,  6.2939e-01,\n",
       "        -4.7534e-01, -3.3569e-01, -3.3276e-01,  3.8428e-01,  3.0811e-01,\n",
       "        -2.6733e-01, -2.2937e-01,  2.3657e-01, -4.4458e-01, -5.9229e-01,\n",
       "        -3.6060e-01, -3.6572e-01,  5.7373e-01, -6.2012e-01, -2.4246e-02,\n",
       "        -1.7004e-01, -2.9834e-01,  1.0109e-02, -4.5166e-01,  3.1421e-01,\n",
       "        -5.2148e-01, -3.5352e-01,  2.4084e-01,  3.9648e-01, -9.6313e-02,\n",
       "        -2.9663e-01,  9.9756e-01, -4.4281e-02,  5.3809e-01, -8.0957e-01,\n",
       "         3.2959e-01,  4.0918e-01,  8.9648e-01,  3.5962e-01, -1.0645e-01,\n",
       "         1.2195e-01,  7.6514e-01, -1.0527e+00, -5.2588e-01,  6.3184e-01,\n",
       "        -4.2358e-01,  2.1948e-01, -1.7712e-01, -5.3223e-01, -3.2910e-01,\n",
       "         2.3914e-01, -5.2539e-01, -1.2622e-01,  2.6733e-01,  3.2617e-01,\n",
       "         3.3643e-01, -1.7065e-01,  5.4492e-01,  2.4756e-01,  1.2622e-01,\n",
       "         4.2041e-01, -2.4194e-01, -3.3478e-02, -5.2930e-01,  8.9746e-01,\n",
       "         1.1367e+00, -3.1616e-01, -3.9624e-01,  1.8237e-01, -1.3904e-01,\n",
       "         1.1810e-01,  5.7471e-01, -2.3120e-01,  3.4717e-01,  1.8555e-02,\n",
       "         4.2041e-01,  5.0977e-01, -3.1299e-01,  2.0178e-01,  4.3945e-01,\n",
       "        -3.0444e-01, -2.5391e-01,  7.2803e-01,  2.6465e-01, -4.5074e-02,\n",
       "         4.5093e-01,  4.0527e-01,  5.9277e-01,  4.4434e-02, -5.9082e-01,\n",
       "         1.9226e-01, -3.9258e-01,  7.6074e-01,  4.6313e-01,  1.1445e+00,\n",
       "         5.0391e-01,  1.7615e-01, -7.1338e-01, -3.7628e-02,  5.3662e-01,\n",
       "        -4.1577e-01,  3.0518e-01,  7.7051e-01, -5.4102e-01,  8.1299e-01,\n",
       "         3.2959e-01,  1.8884e-01,  5.3906e-01,  3.5449e-01,  1.3037e-01,\n",
       "        -2.6318e-01,  4.5166e-01,  1.7993e-01,  4.5679e-01, -5.3418e-01,\n",
       "        -5.9766e-01, -2.9761e-01,  1.4600e-01,  6.7090e-01,  2.2046e-01,\n",
       "         4.5502e-02, -8.3801e-02,  6.3916e-01,  1.9180e-02, -3.8672e-01,\n",
       "         4.7412e-01,  5.6445e-01, -3.0029e-01, -5.4871e-02, -1.7078e-01,\n",
       "        -5.1074e-01,  1.0535e-01,  3.3691e-01,  1.7725e-01,  7.6318e-01,\n",
       "        -5.4248e-01,  2.5073e-01,  4.6875e-01,  1.8481e-01,  1.0342e+00,\n",
       "        -1.7871e-01, -2.6245e-01,  4.6216e-01,  1.9312e-01, -5.2832e-01,\n",
       "        -5.3467e-01, -5.9277e-01, -2.6855e-01, -2.5708e-01,  6.1914e-01,\n",
       "        -1.6150e-01, -6.0577e-02, -4.5288e-01, -1.1554e-01, -3.6255e-02,\n",
       "        -4.9255e-02, -4.5312e-01, -8.0371e-01, -2.8052e-01,  5.9131e-01,\n",
       "        -9.9976e-02,  2.5439e-01,  2.1667e-01,  2.3120e-01, -1.1676e-01,\n",
       "        -1.1810e-01, -7.5867e-02, -2.9517e-01,  2.5415e-01, -2.5854e-01,\n",
       "         6.5527e-01, -6.9873e-01,  8.7256e-01,  7.5488e-01, -3.0273e-01,\n",
       "        -7.2070e-01,  4.0820e-01, -5.6445e-01, -2.0923e-01,  4.5020e-01,\n",
       "         3.9185e-01,  8.6853e-02, -4.3311e-01, -4.5728e-01,  1.2878e-01,\n",
       "        -4.8828e-01,  6.4551e-01, -5.0439e-01,  5.5469e-01,  4.4141e-01,\n",
       "         1.1804e-01, -1.3428e-01,  1.3232e-01, -1.8884e-01,  2.5635e-01,\n",
       "        -8.7842e-01,  5.4779e-02,  5.6592e-01, -7.3975e-01, -7.0020e-01,\n",
       "         3.4814e-01,  5.3192e-02, -6.5137e-01,  2.9932e-01,  4.6460e-01,\n",
       "         1.2311e-01,  2.8125e-01,  4.3555e-01, -5.5664e-01, -5.5811e-01,\n",
       "        -7.4854e-01, -5.6494e-01,  5.9424e-01,  2.7637e-01, -1.3086e-01,\n",
       "         4.5679e-01, -8.3691e-01,  5.6543e-01, -2.1228e-01, -1.0297e-01,\n",
       "        -2.6440e-01,  4.4751e-01,  8.1396e-01]], dtype=float16)"
      ]
     },
     "execution_count": 7,
     "metadata": {},
     "output_type": "execute_result"
    }
   ],
   "source": [
    "sample_abstract = abstracts[\"abstract\"][2]\n",
    "vectorize_e5(sample_abstract)"
   ]
  },
  {
   "cell_type": "code",
   "execution_count": 8,
   "metadata": {},
   "outputs": [
    {
     "data": {
      "text/plain": [
       "(1, 768)"
      ]
     },
     "execution_count": 8,
     "metadata": {},
     "output_type": "execute_result"
    }
   ],
   "source": [
    "vectorize_e5(sample_abstract).shape"
   ]
  },
  {
   "cell_type": "code",
   "execution_count": 9,
   "metadata": {},
   "outputs": [
    {
     "data": {
      "text/plain": [
       "usearch.Matches(10)"
      ]
     },
     "execution_count": 9,
     "metadata": {},
     "output_type": "execute_result"
    }
   ],
   "source": [
    "matches = index.search(vectorize_e5(sample_abstract), 10)\n",
    "matches"
   ]
  },
  {
   "cell_type": "code",
   "execution_count": 11,
   "metadata": {},
   "outputs": [],
   "source": [
    "assert matches.keys[0] == 2"
   ]
  }
 ],
 "metadata": {
  "kernelspec": {
   "display_name": "py310",
   "language": "python",
   "name": "python3"
  },
  "language_info": {
   "codemirror_mode": {
    "name": "ipython",
    "version": 3
   },
   "file_extension": ".py",
   "mimetype": "text/x-python",
   "name": "python",
   "nbconvert_exporter": "python",
   "pygments_lexer": "ipython3",
   "version": "3.10.13"
  }
 },
 "nbformat": 4,
 "nbformat_minor": 2
}

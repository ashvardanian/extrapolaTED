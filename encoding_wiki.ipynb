{
 "cells": [
  {
   "cell_type": "code",
   "execution_count": null,
   "metadata": {},
   "outputs": [],
   "source": [
    "import numpy as np\n",
    "from datasets import load_dataset\n",
    "from encode import vectorize_e5, vectorize_uform"
   ]
  },
  {
   "cell_type": "code",
   "execution_count": null,
   "metadata": {},
   "outputs": [],
   "source": [
    "data = load_dataset(\"wikipedia\", \"20220301.en\", cache_dir=\"./data/wikipedia/\")\n",
    "data, data[\"train\"][0]"
   ]
  },
  {
   "cell_type": "code",
   "execution_count": null,
   "metadata": {},
   "outputs": [],
   "source": [
    "test_batch = [data[\"train\"][i][\"text\"] for i in range(10)]\n",
    "test_batch, vectorize_e5(test_batch)"
   ]
  },
  {
   "cell_type": "code",
   "execution_count": null,
   "metadata": {},
   "outputs": [],
   "source": [
    "from usearch.io import load_matrix, save_matrix\n",
    "from tqdm import tqdm\n",
    "import os"
   ]
  },
  {
   "cell_type": "code",
   "execution_count": null,
   "metadata": {},
   "outputs": [],
   "source": [
    "vectors_path = \"./data/wikipedia/abstracts.fbin\"\n",
    "if not os.path.exists(vectors_path):\n",
    "    matrix = np.zeros((6458670, 768), dtype=np.float32)\n",
    "    save_matrix(matrix, vectors_path)"
   ]
  },
  {
   "cell_type": "markdown",
   "metadata": {},
   "source": [
    "Find all non-zero rows in the NumPy `matrix`, those rows we will need to vectorize.\n",
    "Iterate through the `data[\"train\"][i][\"text\"]` in batches, printing progress with `tqdm`.\n",
    "Vectorize using `vectorize_e5` function, that can take up to 1000 strings-list in a single batch.\n",
    "Once completed, or if terminated, call `save_matrix(matrix, vectors_path)`, to preserve progress."
   ]
  },
  {
   "cell_type": "code",
   "execution_count": null,
   "metadata": {},
   "outputs": [],
   "source": [
    "matrix = load_matrix(vectors_path)"
   ]
  },
  {
   "cell_type": "code",
   "execution_count": null,
   "metadata": {},
   "outputs": [],
   "source": [
    "zero_rows = np.any(matrix == 0, axis=1)\n",
    "zero_indices = np.where(zero_rows)[0]\n",
    "zero_indices"
   ]
  },
  {
   "cell_type": "code",
   "execution_count": null,
   "metadata": {},
   "outputs": [
    {
     "ename": "",
     "evalue": "",
     "output_type": "error",
     "traceback": [
      "\u001b[1;31mThe Kernel crashed while executing code in the the current cell or a previous cell. Please review the code in the cell(s) to identify a possible cause of the failure. Click <a href='https://aka.ms/vscodeJupyterKernelCrash'>here</a> for more info. View Jupyter <a href='command:jupyter.viewOutput'>log</a> for further details."
     ]
    }
   ],
   "source": [
    "import time\n",
    "\n",
    "num_entries = len(data[\"train\"])\n",
    "start_idx = 0\n",
    "batch_size = 100\n",
    "last_save_time = time.time()\n",
    "save_interval = 600  # 10 minutes in seconds\n",
    "\n",
    "# Using tqdm for progress bar. The \"unit_scale\" and \"unit\" arguments allow us to track samples/second.\n",
    "with tqdm(total=len(zero_indices), unit_scale=batch_size, unit=\"samples\") as pbar:\n",
    "    for i in range(0, len(zero_indices), batch_size):\n",
    "        batch_indices = zero_indices[i:i+batch_size]\n",
    "        batch_texts = [data[\"train\"][int(idx)][\"text\"] for idx in batch_indices]\n",
    "\n",
    "        # Vectorize using vectorize_e5 function\n",
    "        batch_vectors = vectorize_e5(batch_texts)\n",
    "\n",
    "        # Update the matrix\n",
    "        matrix[batch_indices] = batch_vectors\n",
    "\n",
    "        # Update the progress bar\n",
    "        pbar.update(len(batch_indices))\n",
    "\n",
    "        # Check if it's time to save the progress\n",
    "        current_time = time.time()\n",
    "        if current_time - last_save_time > save_interval:\n",
    "            save_matrix(matrix, vectors_path)\n",
    "            last_save_time = current_time\n",
    "\n",
    "# Save the matrix after the entire loop is finished\n",
    "save_matrix(matrix, vectors_path)"
   ]
  }
 ],
 "metadata": {
  "kernelspec": {
   "display_name": "py310",
   "language": "python",
   "name": "python3"
  },
  "language_info": {
   "codemirror_mode": {
    "name": "ipython",
    "version": 3
   },
   "file_extension": ".py",
   "mimetype": "text/x-python",
   "name": "python",
   "nbconvert_exporter": "python",
   "pygments_lexer": "ipython3",
   "version": "3.10.13"
  }
 },
 "nbformat": 4,
 "nbformat_minor": 2
}

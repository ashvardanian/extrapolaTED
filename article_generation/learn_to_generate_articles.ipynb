{
 "cells": [
  {
   "cell_type": "markdown",
   "id": "0ae165ad-0328-4929-a6ea-63fa3bac99f3",
   "metadata": {},
   "source": [
    "# learn_to_generate_articles\n",
    "\n",
    "The purpose of this notebook is to try different systems to generate TED\n",
    "stories from a given topic and related articles.\n",
    "\n",
    "My current plan is to create some local JSON files with different\n",
    "inputs for prompts. If there is time, we can set up a way to automatically\n",
    "evaluate output quality, and iterate systematically. As a v1, I plan\n",
    "to simply look at the results by hand and begin iterating that way."
   ]
  },
  {
   "cell_type": "markdown",
   "id": "0328b546-06bd-4d77-81bd-16371ebee41c",
   "metadata": {},
   "source": [
    "## Imports"
   ]
  },
  {
   "cell_type": "code",
   "execution_count": 2,
   "id": "afe15ddf-8f52-4b26-a49a-ca17d53788df",
   "metadata": {},
   "outputs": [],
   "source": [
    "import json\n",
    "\n",
    "import openai"
   ]
  },
  {
   "cell_type": "markdown",
   "id": "09203700-270b-4601-aa01-c377340895de",
   "metadata": {},
   "source": [
    "## Load in API keys\n",
    "\n",
    "You will need your own local `config.json` with the\n",
    "format `{\"api_key\": <key>}`."
   ]
  },
  {
   "cell_type": "code",
   "execution_count": 3,
   "id": "d10e17c7-16fa-4714-826e-96112ae51960",
   "metadata": {},
   "outputs": [],
   "source": [
    "with open('config.json') as f:\n",
    "    openai.api_key = json.load(f)['api_key']"
   ]
  },
  {
   "cell_type": "markdown",
   "id": "7fb67015-5141-4868-9ffe-7f6b753cee75",
   "metadata": {},
   "source": [
    "## Create an example input\n",
    "\n",
    "This section is meant to only be run once."
   ]
  },
  {
   "cell_type": "code",
   "execution_count": 6,
   "id": "197d48df-b8d3-4b5b-b99e-8b87e656e72d",
   "metadata": {},
   "outputs": [],
   "source": [
    "example_input = {'topic': 'The Future of French Architecture', 'articles': []}"
   ]
  },
  {
   "cell_type": "code",
   "execution_count": 7,
   "id": "cdc5a371-dad8-4395-88b2-a4c3916e167f",
   "metadata": {},
   "outputs": [],
   "source": [
    "fnames = ['architecture_of_paris.txt', 'french_architecture.txt', 'grand_palais.txt',\n",
    "    'jean_nouvel.txt', 'paris_architecture_of_the_belle_epoque.txt']"
   ]
  },
  {
   "cell_type": "code",
   "execution_count": 8,
   "id": "b3e92d47-deeb-4f97-9cf2-37f46fff9283",
   "metadata": {},
   "outputs": [],
   "source": [
    "for fname in fnames:\n",
    "    with open(f'raw_articles/{fname}') as f:\n",
    "        example_input['articles'].append(f.read())"
   ]
  },
  {
   "cell_type": "code",
   "execution_count": 13,
   "id": "045ca6cf-ffe2-466a-82b1-0fb4032606b5",
   "metadata": {},
   "outputs": [],
   "source": [
    "with open('example_input_1_french_architecture.json', 'w') as f:\n",
    "    json.dump(example_input, f)"
   ]
  },
  {
   "cell_type": "markdown",
   "id": "e248cb71-e0c7-40bc-ba4b-72e988c05b17",
   "metadata": {},
   "source": [
    "## Load in an example dataset to learn with\n",
    "\n",
    "The data has the following format:\n",
    "\n",
    "    {\n",
    "        \"topic\": <short topic string>,\n",
    "        \"articles\": [list of article strings],\n",
    "        \"image_urls\": [list of image urls]\n",
    "    }\n",
    "\n",
    "To begin with, I will not use image input. The\n",
    "plan is to begin using that later."
   ]
  },
  {
   "cell_type": "code",
   "execution_count": 17,
   "id": "3782dade-5829-4b15-bd75-d257ae671143",
   "metadata": {},
   "outputs": [],
   "source": [
    "with open('example_input_1_french_architecture.json') as f:\n",
    "    example_input = json.load(f)\n",
    "\n",
    "topic = example_input['topic']\n",
    "articles = example_input['articles']"
   ]
  },
  {
   "cell_type": "markdown",
   "id": "6d0c2976-d4c1-472b-ac02-088c50f0b573",
   "metadata": {},
   "source": [
    "## Create a sample prompt"
   ]
  },
  {
   "cell_type": "code",
   "execution_count": 33,
   "id": "2bf5a27a-a027-427e-9de6-18dde35cff4d",
   "metadata": {},
   "outputs": [],
   "source": [
    "def make_prompt(topic, articles):\n",
    "    \n",
    "    prefix = f'''Below is a collection of information about {topic}.\n",
    "        After that information I will ask you to write the text of a TED talk about it.\n",
    "    '''\n",
    "    suffix = f'''Using information you already know, in addition to the information above,\n",
    "        please write the transcript of a TED talk about {topic}.\n",
    "    '''\n",
    "\n",
    "    # TODO: Switch to thinking in tokens instead of words.\n",
    "\n",
    "    word_limit = 17_000  # This is a hack for the 32k token limit.\n",
    "\n",
    "    # We could consider using a weighted limit per article; longer\n",
    "    # articles can send in more tokens.\n",
    "    max_words_per_article = word_limit / len(articles)\n",
    "\n",
    "    parts = [prefix]\n",
    "    for article in articles:\n",
    "        start = ' '.join(article.split()[:int(max_words_per_article)])\n",
    "        parts.append(start)\n",
    "    parts.append(suffix)\n",
    "\n",
    "    return '\\n'.join(parts)"
   ]
  },
  {
   "cell_type": "code",
   "execution_count": 34,
   "id": "e12ec125-7051-4e4c-916a-27b9b3458f57",
   "metadata": {},
   "outputs": [],
   "source": [
    "prompt = make_prompt(topic, articles)"
   ]
  },
  {
   "cell_type": "code",
   "execution_count": 35,
   "id": "372ccec1-d4d0-4bde-b1e6-64dcbfa0efaf",
   "metadata": {},
   "outputs": [
    {
     "name": "stdout",
     "output_type": "stream",
     "text": [
      "15629\n"
     ]
    }
   ],
   "source": [
    "print(len(prompt.split()))"
   ]
  },
  {
   "cell_type": "markdown",
   "id": "116ea69e-bbbe-475f-b8d7-0b73e2eac2a2",
   "metadata": {},
   "source": [
    "## Create a sample TED talk"
   ]
  },
  {
   "cell_type": "code",
   "execution_count": 36,
   "id": "70760eeb-c632-4e10-8efa-a1d94898e6c4",
   "metadata": {},
   "outputs": [],
   "source": [
    "NUM_REPLY_TOKENS = 8_000"
   ]
  },
  {
   "cell_type": "code",
   "execution_count": 37,
   "id": "2db87207-2489-4c73-9d0f-11fa3cee30d3",
   "metadata": {},
   "outputs": [],
   "source": [
    "def get_gpt_response(prompt):\n",
    "    return openai.ChatCompletion.create(\n",
    "        model = 'gpt-4-32k',\n",
    "        messages = [\n",
    "            {\n",
    "                'role': 'user',\n",
    "                'content': prompt\n",
    "            }\n",
    "        ],\n",
    "        max_tokens = NUM_REPLY_TOKENS,\n",
    "        top_p = 1.0,\n",
    "        frequency_penalty = 0.0,\n",
    "        presence_penalty = 0.0\n",
    "    )"
   ]
  },
  {
   "cell_type": "code",
   "execution_count": 38,
   "id": "f8c26d44-8c67-4bd9-837d-b912dbf03df4",
   "metadata": {},
   "outputs": [],
   "source": [
    "response = get_gpt_response(prompt)"
   ]
  },
  {
   "cell_type": "code",
   "execution_count": 46,
   "id": "c4c90061-e538-4bf6-8b76-0e381e53d449",
   "metadata": {},
   "outputs": [
    {
     "name": "stdout",
     "output_type": "stream",
     "text": [
      "Ladies and gentlemen, it's a pleasure to be here today to talk to you about a topic that is at once steeped in history, but full of potential for the future: the architecture of France. It's not just an exploration of aesthetics or engineering; French architecture offers a compelling narrative of the country's spirit, values, and evolution. As we venture to the future of French architecture, let's start by examining its storied past.\n",
      "\n",
      "If you've visited Paris, you've seen firsthand the chronicles of architectural achievement, from the Middle Ages to the 21st century. Paris was the birthplace of the Gothic style, evident in the majestic Cathedral Notre-Dame de Paris, and later gave the world the Art Nouveau style, with its organic and flowing designs. The city has witnessed a dramatic interplay of styles that represented different eras: the French Renaissance, Classical revival, the exuberant Belle Époque, and innovative Art Deco. Landmarks such as the Grand Palais stand testament to this interweaving of history, style, and innovation. \n",
      "\n",
      "Now, our question is: where does French architecture go from here? As we stand on the precipice of a new era, what will the future hold? \n",
      "\n",
      "As we've seen, each architectural style born in France not only reflected but also influenced contemporary views. The grandeur of the Gothic period reflected a time of religious influence; the Art Nouveau emerged as an artistic response to the industrial revolution. Today's challenges and priorities – sustainability, technology and social changes – are expected to similarly shape French architecture's future. Current designs have already begun to reflect a societal shift towards sustainability and energy efficiency, and we can expect to see contemporary French architecture continue to develop in environmentally conscious ways.\n",
      "\n",
      "The future of French architecture, though rooted in its rich past, is also making strides towards the future with new materials and technologies. Digital technologies are increasingly incorporated into design processes, and revolutionary materials are used to maximize efficiency and sustainability. Structures are expected to do more than just look pretty—they must be functional, efficient, and beneficial to their environment.\n",
      "\n",
      "We also see a return to regionalism in architecture; blending modern designs with local materials and techniques, keeping in mind the geographical and climatic circumstances, thereby creating buildings that are not just universally modern, but also distinctly French. \n",
      "\n",
      "Notable modern French architects like Jean Nouvel, who was awarded the prestigious Pritzker Prize, and renowned urban planner Dominique Perrault have embraced these new challenges and possibilities. Nouvel's works such as the Arab World Institute and the Doha Tower are prime examples of incorporating cutting-edge technology while maintaining a strong sense of cultural and historical context.\n",
      "\n",
      "So, what can we expect from the future of French architecture? It would be crafting space with respect, upholding principles of sustainability and efficiency while never losing sight of aesthetics and cultural significance. We're on the verge of a new renaissance in French architecture, a period where we balance nature with structure, history with innovation, and form with function. \n",
      "\n",
      "In conclusion, the future of French architecture is a fascinating exploration into blending history and modernity, tradition and innovation. Using new technologies, materials, and designs, French architecture will continue to lead the world in aesthetic appeal, cultural relevance, and sustainable practices.\n",
      "\n",
      "Thank you for joining me today in this vision of the future, where the buildings not only house us, they represent us, our values and aspirations for a better world.\n"
     ]
    }
   ],
   "source": [
    "print(response['choices'][0]['message']['content'])"
   ]
  },
  {
   "cell_type": "markdown",
   "id": "885be8b3-93d0-4f2c-a1da-648c1ea61a51",
   "metadata": {},
   "source": [
    "## Save this out as a sample transcript"
   ]
  },
  {
   "cell_type": "code",
   "execution_count": 47,
   "id": "871fda17-864c-42d0-a550-3989250d1621",
   "metadata": {},
   "outputs": [],
   "source": [
    "save_obj = {\n",
    "    'topic': topic,\n",
    "    'transcript': response['choices'][0]['message']['content']\n",
    "}"
   ]
  },
  {
   "cell_type": "code",
   "execution_count": 49,
   "id": "edfe18aa-a709-4454-92f6-d46f68b3f777",
   "metadata": {},
   "outputs": [],
   "source": [
    "with open('example_transcript_1_french_architecture.json', 'w') as f:\n",
    "    json.dump(save_obj, f)"
   ]
  },
  {
   "cell_type": "code",
   "execution_count": null,
   "id": "d2c2c71b-ff46-4c33-8f4f-a8879fbeb94a",
   "metadata": {},
   "outputs": [],
   "source": []
  }
 ],
 "metadata": {
  "kernelspec": {
   "display_name": "Python 3 (ipykernel)",
   "language": "python",
   "name": "python3"
  },
  "language_info": {
   "codemirror_mode": {
    "name": "ipython",
    "version": 3
   },
   "file_extension": ".py",
   "mimetype": "text/x-python",
   "name": "python",
   "nbconvert_exporter": "python",
   "pygments_lexer": "ipython3",
   "version": "3.11.3"
  }
 },
 "nbformat": 4,
 "nbformat_minor": 5
}
